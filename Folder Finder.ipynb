{
 "cells": [
  {
   "cell_type": "markdown",
   "id": "a535a5cd-18fe-43df-9ab6-7de2c344b615",
   "metadata": {},
   "source": [
    "# Folder Finder"
   ]
  },
  {
   "cell_type": "code",
   "execution_count": 1,
   "id": "8492329e-e636-4ee5-bf67-648822a44da8",
   "metadata": {},
   "outputs": [],
   "source": [
    "import os"
   ]
  },
  {
   "cell_type": "code",
   "execution_count": 2,
   "id": "ba08a828-e4cc-418b-860f-05b9fb5de192",
   "metadata": {},
   "outputs": [],
   "source": [
    "path = r\"v:\\Business Analysis Team\"\n",
    "search_term = \"ENDORSING\""
   ]
  },
  {
   "cell_type": "code",
   "execution_count": 3,
   "id": "025079ca-2cc4-4442-beaa-8a6a48db9143",
   "metadata": {},
   "outputs": [],
   "source": [
    "class Folder_Finder:\n",
    "    def __init__(self, path, search_term):\n",
    "        self.path = path\n",
    "        self.search_term = search_term\n",
    "\n",
    "    def search(self):\n",
    "        print(f\"Begining search of {self.path} for '{self.search_term}'\")\n",
    "        \n",
    "        for root, dirs, files in os.walk(self.path):\n",
    "            for folder in dirs:\n",
    "                #print(f\"{root}\\{folder}\")\n",
    "\n",
    "                if search_term in folder.upper():\n",
    "                    print(f\"{root}\\{folder}\")\n",
    "\n",
    "        print(\"Search complete\")"
   ]
  },
  {
   "cell_type": "code",
   "execution_count": 4,
   "id": "68746703-1c8a-4a32-99b5-40a736c4e0be",
   "metadata": {},
   "outputs": [],
   "source": [
    "tool = Folder_Finder(path, search_term)"
   ]
  },
  {
   "cell_type": "code",
   "execution_count": null,
   "id": "3b6def79-8967-4430-a339-837faedf2c5c",
   "metadata": {},
   "outputs": [
    {
     "name": "stdout",
     "output_type": "stream",
     "text": [
      "Begining search of v:\\Business Analysis Team for 'ENDORSING'\n",
      "v:\\Business Analysis Team\\Washington State Endorsing Practitioner\n"
     ]
    }
   ],
   "source": [
    "tool.search()"
   ]
  },
  {
   "cell_type": "code",
   "execution_count": null,
   "id": "a21b78e4-e1c9-4a0a-84a5-7b5af460a4c9",
   "metadata": {},
   "outputs": [],
   "source": []
  }
 ],
 "metadata": {
  "kernelspec": {
   "display_name": "Python 3 (ipykernel)",
   "language": "python",
   "name": "python3"
  },
  "language_info": {
   "codemirror_mode": {
    "name": "ipython",
    "version": 3
   },
   "file_extension": ".py",
   "mimetype": "text/x-python",
   "name": "python",
   "nbconvert_exporter": "python",
   "pygments_lexer": "ipython3",
   "version": "3.7.8"
  }
 },
 "nbformat": 4,
 "nbformat_minor": 5
}
