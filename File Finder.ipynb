{
 "cells": [
  {
   "cell_type": "markdown",
   "id": "4079299d-8f86-41ef-a17c-5e91e66a3ee3",
   "metadata": {},
   "source": [
    "# File Finder"
   ]
  },
  {
   "cell_type": "code",
   "execution_count": 1,
   "id": "8334bb6d-c11f-4654-b0c9-25768ef96000",
   "metadata": {},
   "outputs": [],
   "source": [
    "root = r\"H:\\Timeline\\2022\""
   ]
  },
  {
   "cell_type": "code",
   "execution_count": 2,
   "id": "eba1e5df-ff7e-4c05-8599-d67144ed53c5",
   "metadata": {},
   "outputs": [],
   "source": [
    "search_term = \"ipynb\""
   ]
  },
  {
   "cell_type": "code",
   "execution_count": 3,
   "id": "ccd33c6e-92ed-45bc-814f-b1fcb394bf5b",
   "metadata": {},
   "outputs": [],
   "source": [
    "import os"
   ]
  },
  {
   "cell_type": "code",
   "execution_count": 4,
   "id": "97cf1774-a09c-49f1-9108-86c7ba9ee290",
   "metadata": {},
   "outputs": [],
   "source": [
    "class File_Finder_Class:\n",
    "    def __init__(self):\n",
    "        pass\n",
    "\n",
    "    def get_all_file_list(self, root):\n",
    "        file_list = list() # The thing to return\n",
    "        \n",
    "        for root, dirs, files in os.walk(root):\n",
    "            for file in files:\n",
    "                file_list.append(os.path.join(root, file))\n",
    "\n",
    "        return file_list\n",
    "\n",
    "    def get_matching_list(self, root, search_term, search_type):\n",
    "        matching_list = list() # The thing to return\n",
    "\n",
    "        if search_type == 1: # Starts with\n",
    "            for file in self.get_all_file_list(root):\n",
    "                file_path_split = file.split(\"/\")\n",
    "                file_name = file_path_split[-1]\n",
    "\n",
    "                if file_name[0:len(search_term)] == search_term: \n",
    "                    matching_list.append(file)\n",
    "\n",
    "        elif search_type == 2:  # Contains\n",
    "            for file in self.get_all_file_list(root):\n",
    "                if search_term in file:\n",
    "                    print(f\"File: {file}\")\n",
    "                    print(f\"Root: {root}\")\n",
    "                    matching_list.append(file)\n",
    "                    hold_for_user = input(\"\")\n",
    "        \n",
    "        elif search_type == 3: # Ends with\n",
    "            for file in self.get_all_file_list(root):\n",
    "                if file.endswith(search_term): \n",
    "                    matching_list.append(file)\n",
    "\n",
    "        return matching_list\n",
    "\n",
    "    def write_html(self, file_list):\n",
    "        with open(\"file_finder.html\", \"w\") as html_output_file:\n",
    "            # Write header\n",
    "            header = \"\"\"\n",
    "                <!DOCTYPE html>\n",
    "                <html>\n",
    "                    <head>\n",
    "                        <title>File Finder</title>\n",
    "                    </head>\n",
    "                    <body>\n",
    "                    <h1 style=\"font-family:verdana;\">Search Results:</h1>\n",
    "                \"\"\"\n",
    "            html_output_file.write(header)\n",
    "\n",
    "            # Write rows\n",
    "            for file in file_list:\n",
    "                html_output_file.write(\"<p><a href=\" + file + \">\" + file + \"</a></p>\")\n",
    "            \n",
    "            # Write footer\n",
    "            html_output_file.write(\"</body></html>\")\n",
    "\n",
    "    def get_intersection_list(self, list_1, list_2):\n",
    "        intersection_lists = list()\n",
    "        set_1 = set(list_1)\n",
    "        set_2 = set(list_2)\n",
    "        set_intersection = set_1.intersection(set_2)\n",
    "        intersection_lists = list(set_intersection)\n",
    "        \n",
    "        return intersection_lists"
   ]
  },
  {
   "cell_type": "code",
   "execution_count": 5,
   "id": "9e1ddd2f-df7e-42bc-83f0-b165d391b017",
   "metadata": {},
   "outputs": [],
   "source": [
    "finder = File_Finder_Class()"
   ]
  },
  {
   "cell_type": "markdown",
   "id": "143b2dc0-7821-4b48-8c94-197ed48009ab",
   "metadata": {},
   "source": [
    "## Testing searching files"
   ]
  },
  {
   "cell_type": "code",
   "execution_count": 6,
   "id": "a1b7a898-4462-4e37-8256-475efb7045ed",
   "metadata": {},
   "outputs": [],
   "source": [
    "## for file in finder.get_all_file_list(root): print(file)\n",
    "##    for file in finder.get_matching_list(root, search_term, 3): print(file) # 3 is ends with\n",
    "##    for file in finder.get_matching_list(root, search_term, 2): print(file) # 2 is contains\n",
    "##    for file in finder.get_matching_list(root, search_term, 1): print(file) # 1 is starts with\n",
    "##    for file in finder.return_intersection(finder.get_matching_list(root, \"t\", 1),finder.get_matching_list(root, \"pdf\", 3)): print(file)"
   ]
  },
  {
   "cell_type": "code",
   "execution_count": null,
   "id": "a348aa73-b211-485a-b82c-432877311277",
   "metadata": {},
   "outputs": [],
   "source": [
    "for file in finder.get_matching_list(root, search_term, 3): print(file) # 3 is ends with"
   ]
  },
  {
   "cell_type": "markdown",
   "id": "8f493ccd-4724-4a40-85e0-2925dd0d0f8a",
   "metadata": {},
   "source": [
    "## Testing writing html"
   ]
  },
  {
   "cell_type": "code",
   "execution_count": null,
   "id": "7393f504-b82e-47f0-ab6f-a884060ffd59",
   "metadata": {},
   "outputs": [],
   "source": [
    "##    finder.write_html(finder.get_all_file_list(root))\n",
    "\n",
    "##    finder.write_html(finder.get_matching_list(root, search_term, 2))\n",
    "\n",
    "##    finder.write_html(finder.get_intersection_list(finder.get_matching_list(root, \"Track-it\", 1),\n",
    "##                                                 finder.get_matching_list(root, \"docx\", 3)\n",
    "##                                                 )\n",
    "##                      )"
   ]
  }
 ],
 "metadata": {
  "kernelspec": {
   "display_name": "Python 3 (ipykernel)",
   "language": "python",
   "name": "python3"
  },
  "language_info": {
   "codemirror_mode": {
    "name": "ipython",
    "version": 3
   },
   "file_extension": ".py",
   "mimetype": "text/x-python",
   "name": "python",
   "nbconvert_exporter": "python",
   "pygments_lexer": "ipython3",
   "version": "3.7.8"
  }
 },
 "nbformat": 4,
 "nbformat_minor": 5
}
